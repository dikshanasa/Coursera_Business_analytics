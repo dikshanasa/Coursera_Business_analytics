{
  "nbformat": 4,
  "nbformat_minor": 0,
  "metadata": {
    "colab": {
      "provenance": [],
      "authorship_tag": "ABX9TyNxnzm2Gl3wqB6+xuX5CfOe",
      "include_colab_link": true
    },
    "kernelspec": {
      "name": "python3",
      "display_name": "Python 3"
    },
    "language_info": {
      "name": "python"
    }
  },
  "cells": [
    {
      "cell_type": "markdown",
      "metadata": {
        "id": "view-in-github",
        "colab_type": "text"
      },
      "source": [
        "<a href=\"https://colab.research.google.com/github/dikshanasa/Coursera_Business_analytics/blob/main/Business_analytics_quiz(1).ipynb\" target=\"_parent\"><img src=\"https://colab.research.google.com/assets/colab-badge.svg\" alt=\"Open In Colab\"/></a>"
      ]
    },
    {
      "cell_type": "code",
      "execution_count": null,
      "metadata": {
        "id": "Kxfnt-ZRJWtN"
      },
      "outputs": [],
      "source": [
        "import pandas as pd\n",
        "import numpy as np\n",
        "import statistics\n",
        "data = pd.read_csv('/content/_eba2c079135882131db3690701bc9c97_PASTAPURCHASE_EDITED.csv')"
      ]
    },
    {
      "cell_type": "code",
      "source": [
        "data.head()"
      ],
      "metadata": {
        "colab": {
          "base_uri": "https://localhost:8080/",
          "height": 206
        },
        "id": "rzeqqugBJ9g4",
        "outputId": "73ec928a-c716-4ed6-dda2-6bca39ac0f40"
      },
      "execution_count": null,
      "outputs": [
        {
          "output_type": "execute_result",
          "data": {
            "text/plain": [
              "   HHID  TIME     PASTA  EXPOS        AGE        INCOME  AREA\n",
              "0     1     1  0.939444      1  61.710758  25186.798772     3\n",
              "1     1     2  2.560969      2  61.710758  25186.798772     3\n",
              "2     1     3  0.901123      0  61.710758  25186.798772     3\n",
              "3     1     4  1.916530      1  61.710758  25186.798772     3\n",
              "4     1     5  1.548751      0  61.710758  25186.798772     3"
            ],
            "text/html": [
              "\n",
              "  <div id=\"df-8d8fb73d-8cf6-4bd1-9568-74777975d68e\">\n",
              "    <div class=\"colab-df-container\">\n",
              "      <div>\n",
              "<style scoped>\n",
              "    .dataframe tbody tr th:only-of-type {\n",
              "        vertical-align: middle;\n",
              "    }\n",
              "\n",
              "    .dataframe tbody tr th {\n",
              "        vertical-align: top;\n",
              "    }\n",
              "\n",
              "    .dataframe thead th {\n",
              "        text-align: right;\n",
              "    }\n",
              "</style>\n",
              "<table border=\"1\" class=\"dataframe\">\n",
              "  <thead>\n",
              "    <tr style=\"text-align: right;\">\n",
              "      <th></th>\n",
              "      <th>HHID</th>\n",
              "      <th>TIME</th>\n",
              "      <th>PASTA</th>\n",
              "      <th>EXPOS</th>\n",
              "      <th>AGE</th>\n",
              "      <th>INCOME</th>\n",
              "      <th>AREA</th>\n",
              "    </tr>\n",
              "  </thead>\n",
              "  <tbody>\n",
              "    <tr>\n",
              "      <th>0</th>\n",
              "      <td>1</td>\n",
              "      <td>1</td>\n",
              "      <td>0.939444</td>\n",
              "      <td>1</td>\n",
              "      <td>61.710758</td>\n",
              "      <td>25186.798772</td>\n",
              "      <td>3</td>\n",
              "    </tr>\n",
              "    <tr>\n",
              "      <th>1</th>\n",
              "      <td>1</td>\n",
              "      <td>2</td>\n",
              "      <td>2.560969</td>\n",
              "      <td>2</td>\n",
              "      <td>61.710758</td>\n",
              "      <td>25186.798772</td>\n",
              "      <td>3</td>\n",
              "    </tr>\n",
              "    <tr>\n",
              "      <th>2</th>\n",
              "      <td>1</td>\n",
              "      <td>3</td>\n",
              "      <td>0.901123</td>\n",
              "      <td>0</td>\n",
              "      <td>61.710758</td>\n",
              "      <td>25186.798772</td>\n",
              "      <td>3</td>\n",
              "    </tr>\n",
              "    <tr>\n",
              "      <th>3</th>\n",
              "      <td>1</td>\n",
              "      <td>4</td>\n",
              "      <td>1.916530</td>\n",
              "      <td>1</td>\n",
              "      <td>61.710758</td>\n",
              "      <td>25186.798772</td>\n",
              "      <td>3</td>\n",
              "    </tr>\n",
              "    <tr>\n",
              "      <th>4</th>\n",
              "      <td>1</td>\n",
              "      <td>5</td>\n",
              "      <td>1.548751</td>\n",
              "      <td>0</td>\n",
              "      <td>61.710758</td>\n",
              "      <td>25186.798772</td>\n",
              "      <td>3</td>\n",
              "    </tr>\n",
              "  </tbody>\n",
              "</table>\n",
              "</div>\n",
              "      <button class=\"colab-df-convert\" onclick=\"convertToInteractive('df-8d8fb73d-8cf6-4bd1-9568-74777975d68e')\"\n",
              "              title=\"Convert this dataframe to an interactive table.\"\n",
              "              style=\"display:none;\">\n",
              "        \n",
              "  <svg xmlns=\"http://www.w3.org/2000/svg\" height=\"24px\"viewBox=\"0 0 24 24\"\n",
              "       width=\"24px\">\n",
              "    <path d=\"M0 0h24v24H0V0z\" fill=\"none\"/>\n",
              "    <path d=\"M18.56 5.44l.94 2.06.94-2.06 2.06-.94-2.06-.94-.94-2.06-.94 2.06-2.06.94zm-11 1L8.5 8.5l.94-2.06 2.06-.94-2.06-.94L8.5 2.5l-.94 2.06-2.06.94zm10 10l.94 2.06.94-2.06 2.06-.94-2.06-.94-.94-2.06-.94 2.06-2.06.94z\"/><path d=\"M17.41 7.96l-1.37-1.37c-.4-.4-.92-.59-1.43-.59-.52 0-1.04.2-1.43.59L10.3 9.45l-7.72 7.72c-.78.78-.78 2.05 0 2.83L4 21.41c.39.39.9.59 1.41.59.51 0 1.02-.2 1.41-.59l7.78-7.78 2.81-2.81c.8-.78.8-2.07 0-2.86zM5.41 20L4 18.59l7.72-7.72 1.47 1.35L5.41 20z\"/>\n",
              "  </svg>\n",
              "      </button>\n",
              "      \n",
              "  <style>\n",
              "    .colab-df-container {\n",
              "      display:flex;\n",
              "      flex-wrap:wrap;\n",
              "      gap: 12px;\n",
              "    }\n",
              "\n",
              "    .colab-df-convert {\n",
              "      background-color: #E8F0FE;\n",
              "      border: none;\n",
              "      border-radius: 50%;\n",
              "      cursor: pointer;\n",
              "      display: none;\n",
              "      fill: #1967D2;\n",
              "      height: 32px;\n",
              "      padding: 0 0 0 0;\n",
              "      width: 32px;\n",
              "    }\n",
              "\n",
              "    .colab-df-convert:hover {\n",
              "      background-color: #E2EBFA;\n",
              "      box-shadow: 0px 1px 2px rgba(60, 64, 67, 0.3), 0px 1px 3px 1px rgba(60, 64, 67, 0.15);\n",
              "      fill: #174EA6;\n",
              "    }\n",
              "\n",
              "    [theme=dark] .colab-df-convert {\n",
              "      background-color: #3B4455;\n",
              "      fill: #D2E3FC;\n",
              "    }\n",
              "\n",
              "    [theme=dark] .colab-df-convert:hover {\n",
              "      background-color: #434B5C;\n",
              "      box-shadow: 0px 1px 3px 1px rgba(0, 0, 0, 0.15);\n",
              "      filter: drop-shadow(0px 1px 2px rgba(0, 0, 0, 0.3));\n",
              "      fill: #FFFFFF;\n",
              "    }\n",
              "  </style>\n",
              "\n",
              "      <script>\n",
              "        const buttonEl =\n",
              "          document.querySelector('#df-8d8fb73d-8cf6-4bd1-9568-74777975d68e button.colab-df-convert');\n",
              "        buttonEl.style.display =\n",
              "          google.colab.kernel.accessAllowed ? 'block' : 'none';\n",
              "\n",
              "        async function convertToInteractive(key) {\n",
              "          const element = document.querySelector('#df-8d8fb73d-8cf6-4bd1-9568-74777975d68e');\n",
              "          const dataTable =\n",
              "            await google.colab.kernel.invokeFunction('convertToInteractive',\n",
              "                                                     [key], {});\n",
              "          if (!dataTable) return;\n",
              "\n",
              "          const docLinkHtml = 'Like what you see? Visit the ' +\n",
              "            '<a target=\"_blank\" href=https://colab.research.google.com/notebooks/data_table.ipynb>data table notebook</a>'\n",
              "            + ' to learn more about interactive tables.';\n",
              "          element.innerHTML = '';\n",
              "          dataTable['output_type'] = 'display_data';\n",
              "          await google.colab.output.renderOutput(dataTable, element);\n",
              "          const docLink = document.createElement('div');\n",
              "          docLink.innerHTML = docLinkHtml;\n",
              "          element.appendChild(docLink);\n",
              "        }\n",
              "      </script>\n",
              "    </div>\n",
              "  </div>\n",
              "  "
            ]
          },
          "metadata": {},
          "execution_count": 5
        }
      ]
    },
    {
      "cell_type": "code",
      "source": [
        "data['PASTA'].mean()"
      ],
      "metadata": {
        "colab": {
          "base_uri": "https://localhost:8080/"
        },
        "id": "4iKxpli4J_E_",
        "outputId": "31588e19-7978-4a33-c3a9-b3db7cd348d8"
      },
      "execution_count": null,
      "outputs": [
        {
          "output_type": "execute_result",
          "data": {
            "text/plain": [
              "1.8415445385441305"
            ]
          },
          "metadata": {},
          "execution_count": 9
        }
      ]
    },
    {
      "cell_type": "code",
      "source": [
        "data['PASTA'].std()"
      ],
      "metadata": {
        "colab": {
          "base_uri": "https://localhost:8080/"
        },
        "id": "zFAfj3iAKaZO",
        "outputId": "d2fa8fe7-2ccb-46b6-f7b6-70213120619e"
      },
      "execution_count": null,
      "outputs": [
        {
          "output_type": "execute_result",
          "data": {
            "text/plain": [
              "1.0259110543051067"
            ]
          },
          "metadata": {},
          "execution_count": 10
        }
      ]
    },
    {
      "cell_type": "code",
      "source": [
        "data.loc[data['INCOME']==data['INCOME'].max()]"
      ],
      "metadata": {
        "colab": {
          "base_uri": "https://localhost:8080/",
          "height": 676
        },
        "id": "PJLcVjaAKhR8",
        "outputId": "8a0b51b4-cb8c-4c01-90c1-ed9bab9ee3ee"
      },
      "execution_count": null,
      "outputs": [
        {
          "output_type": "execute_result",
          "data": {
            "text/plain": [
              "       HHID  TIME     PASTA  EXPOS        AGE         INCOME  AREA\n",
              "19220   962     1  3.706964      0  28.545331  141066.966883     5\n",
              "19221   962     2  1.640486      0  28.545331  141066.966883     5\n",
              "19222   962     3  1.325770      1  28.545331  141066.966883     5\n",
              "19223   962     4  0.429681      1  28.545331  141066.966883     5\n",
              "19224   962     5  1.952251      1  28.545331  141066.966883     5\n",
              "19225   962     6  2.758863      1  28.545331  141066.966883     5\n",
              "19226   962     7  3.229242      1  28.545331  141066.966883     5\n",
              "19227   962     8  0.815825      0  28.545331  141066.966883     5\n",
              "19228   962     9  2.784201      1  28.545331  141066.966883     5\n",
              "19229   962    10  1.886306      1  28.545331  141066.966883     5\n",
              "19230   962    11  1.223356      0  28.545331  141066.966883     5\n",
              "19231   962    12  2.309513      0  28.545331  141066.966883     5\n",
              "19232   962    13  3.453884      1  28.545331  141066.966883     5\n",
              "19233   962    14  0.016351      0  28.545331  141066.966883     5\n",
              "19234   962    15  3.113772      1  28.545331  141066.966883     5\n",
              "19235   962    16  1.088492      0  28.545331  141066.966883     5\n",
              "19236   962    17  2.650725      0  28.545331  141066.966883     5\n",
              "19237   962    18  1.880740      1  28.545331  141066.966883     5\n",
              "19238   962    19  2.489726      1  28.545331  141066.966883     5\n",
              "19239   962    20  3.201276      0  28.545331  141066.966883     5"
            ],
            "text/html": [
              "\n",
              "  <div id=\"df-ec6551c3-4b33-4ee6-a8f6-2fa92d7c8891\">\n",
              "    <div class=\"colab-df-container\">\n",
              "      <div>\n",
              "<style scoped>\n",
              "    .dataframe tbody tr th:only-of-type {\n",
              "        vertical-align: middle;\n",
              "    }\n",
              "\n",
              "    .dataframe tbody tr th {\n",
              "        vertical-align: top;\n",
              "    }\n",
              "\n",
              "    .dataframe thead th {\n",
              "        text-align: right;\n",
              "    }\n",
              "</style>\n",
              "<table border=\"1\" class=\"dataframe\">\n",
              "  <thead>\n",
              "    <tr style=\"text-align: right;\">\n",
              "      <th></th>\n",
              "      <th>HHID</th>\n",
              "      <th>TIME</th>\n",
              "      <th>PASTA</th>\n",
              "      <th>EXPOS</th>\n",
              "      <th>AGE</th>\n",
              "      <th>INCOME</th>\n",
              "      <th>AREA</th>\n",
              "    </tr>\n",
              "  </thead>\n",
              "  <tbody>\n",
              "    <tr>\n",
              "      <th>19220</th>\n",
              "      <td>962</td>\n",
              "      <td>1</td>\n",
              "      <td>3.706964</td>\n",
              "      <td>0</td>\n",
              "      <td>28.545331</td>\n",
              "      <td>141066.966883</td>\n",
              "      <td>5</td>\n",
              "    </tr>\n",
              "    <tr>\n",
              "      <th>19221</th>\n",
              "      <td>962</td>\n",
              "      <td>2</td>\n",
              "      <td>1.640486</td>\n",
              "      <td>0</td>\n",
              "      <td>28.545331</td>\n",
              "      <td>141066.966883</td>\n",
              "      <td>5</td>\n",
              "    </tr>\n",
              "    <tr>\n",
              "      <th>19222</th>\n",
              "      <td>962</td>\n",
              "      <td>3</td>\n",
              "      <td>1.325770</td>\n",
              "      <td>1</td>\n",
              "      <td>28.545331</td>\n",
              "      <td>141066.966883</td>\n",
              "      <td>5</td>\n",
              "    </tr>\n",
              "    <tr>\n",
              "      <th>19223</th>\n",
              "      <td>962</td>\n",
              "      <td>4</td>\n",
              "      <td>0.429681</td>\n",
              "      <td>1</td>\n",
              "      <td>28.545331</td>\n",
              "      <td>141066.966883</td>\n",
              "      <td>5</td>\n",
              "    </tr>\n",
              "    <tr>\n",
              "      <th>19224</th>\n",
              "      <td>962</td>\n",
              "      <td>5</td>\n",
              "      <td>1.952251</td>\n",
              "      <td>1</td>\n",
              "      <td>28.545331</td>\n",
              "      <td>141066.966883</td>\n",
              "      <td>5</td>\n",
              "    </tr>\n",
              "    <tr>\n",
              "      <th>19225</th>\n",
              "      <td>962</td>\n",
              "      <td>6</td>\n",
              "      <td>2.758863</td>\n",
              "      <td>1</td>\n",
              "      <td>28.545331</td>\n",
              "      <td>141066.966883</td>\n",
              "      <td>5</td>\n",
              "    </tr>\n",
              "    <tr>\n",
              "      <th>19226</th>\n",
              "      <td>962</td>\n",
              "      <td>7</td>\n",
              "      <td>3.229242</td>\n",
              "      <td>1</td>\n",
              "      <td>28.545331</td>\n",
              "      <td>141066.966883</td>\n",
              "      <td>5</td>\n",
              "    </tr>\n",
              "    <tr>\n",
              "      <th>19227</th>\n",
              "      <td>962</td>\n",
              "      <td>8</td>\n",
              "      <td>0.815825</td>\n",
              "      <td>0</td>\n",
              "      <td>28.545331</td>\n",
              "      <td>141066.966883</td>\n",
              "      <td>5</td>\n",
              "    </tr>\n",
              "    <tr>\n",
              "      <th>19228</th>\n",
              "      <td>962</td>\n",
              "      <td>9</td>\n",
              "      <td>2.784201</td>\n",
              "      <td>1</td>\n",
              "      <td>28.545331</td>\n",
              "      <td>141066.966883</td>\n",
              "      <td>5</td>\n",
              "    </tr>\n",
              "    <tr>\n",
              "      <th>19229</th>\n",
              "      <td>962</td>\n",
              "      <td>10</td>\n",
              "      <td>1.886306</td>\n",
              "      <td>1</td>\n",
              "      <td>28.545331</td>\n",
              "      <td>141066.966883</td>\n",
              "      <td>5</td>\n",
              "    </tr>\n",
              "    <tr>\n",
              "      <th>19230</th>\n",
              "      <td>962</td>\n",
              "      <td>11</td>\n",
              "      <td>1.223356</td>\n",
              "      <td>0</td>\n",
              "      <td>28.545331</td>\n",
              "      <td>141066.966883</td>\n",
              "      <td>5</td>\n",
              "    </tr>\n",
              "    <tr>\n",
              "      <th>19231</th>\n",
              "      <td>962</td>\n",
              "      <td>12</td>\n",
              "      <td>2.309513</td>\n",
              "      <td>0</td>\n",
              "      <td>28.545331</td>\n",
              "      <td>141066.966883</td>\n",
              "      <td>5</td>\n",
              "    </tr>\n",
              "    <tr>\n",
              "      <th>19232</th>\n",
              "      <td>962</td>\n",
              "      <td>13</td>\n",
              "      <td>3.453884</td>\n",
              "      <td>1</td>\n",
              "      <td>28.545331</td>\n",
              "      <td>141066.966883</td>\n",
              "      <td>5</td>\n",
              "    </tr>\n",
              "    <tr>\n",
              "      <th>19233</th>\n",
              "      <td>962</td>\n",
              "      <td>14</td>\n",
              "      <td>0.016351</td>\n",
              "      <td>0</td>\n",
              "      <td>28.545331</td>\n",
              "      <td>141066.966883</td>\n",
              "      <td>5</td>\n",
              "    </tr>\n",
              "    <tr>\n",
              "      <th>19234</th>\n",
              "      <td>962</td>\n",
              "      <td>15</td>\n",
              "      <td>3.113772</td>\n",
              "      <td>1</td>\n",
              "      <td>28.545331</td>\n",
              "      <td>141066.966883</td>\n",
              "      <td>5</td>\n",
              "    </tr>\n",
              "    <tr>\n",
              "      <th>19235</th>\n",
              "      <td>962</td>\n",
              "      <td>16</td>\n",
              "      <td>1.088492</td>\n",
              "      <td>0</td>\n",
              "      <td>28.545331</td>\n",
              "      <td>141066.966883</td>\n",
              "      <td>5</td>\n",
              "    </tr>\n",
              "    <tr>\n",
              "      <th>19236</th>\n",
              "      <td>962</td>\n",
              "      <td>17</td>\n",
              "      <td>2.650725</td>\n",
              "      <td>0</td>\n",
              "      <td>28.545331</td>\n",
              "      <td>141066.966883</td>\n",
              "      <td>5</td>\n",
              "    </tr>\n",
              "    <tr>\n",
              "      <th>19237</th>\n",
              "      <td>962</td>\n",
              "      <td>18</td>\n",
              "      <td>1.880740</td>\n",
              "      <td>1</td>\n",
              "      <td>28.545331</td>\n",
              "      <td>141066.966883</td>\n",
              "      <td>5</td>\n",
              "    </tr>\n",
              "    <tr>\n",
              "      <th>19238</th>\n",
              "      <td>962</td>\n",
              "      <td>19</td>\n",
              "      <td>2.489726</td>\n",
              "      <td>1</td>\n",
              "      <td>28.545331</td>\n",
              "      <td>141066.966883</td>\n",
              "      <td>5</td>\n",
              "    </tr>\n",
              "    <tr>\n",
              "      <th>19239</th>\n",
              "      <td>962</td>\n",
              "      <td>20</td>\n",
              "      <td>3.201276</td>\n",
              "      <td>0</td>\n",
              "      <td>28.545331</td>\n",
              "      <td>141066.966883</td>\n",
              "      <td>5</td>\n",
              "    </tr>\n",
              "  </tbody>\n",
              "</table>\n",
              "</div>\n",
              "      <button class=\"colab-df-convert\" onclick=\"convertToInteractive('df-ec6551c3-4b33-4ee6-a8f6-2fa92d7c8891')\"\n",
              "              title=\"Convert this dataframe to an interactive table.\"\n",
              "              style=\"display:none;\">\n",
              "        \n",
              "  <svg xmlns=\"http://www.w3.org/2000/svg\" height=\"24px\"viewBox=\"0 0 24 24\"\n",
              "       width=\"24px\">\n",
              "    <path d=\"M0 0h24v24H0V0z\" fill=\"none\"/>\n",
              "    <path d=\"M18.56 5.44l.94 2.06.94-2.06 2.06-.94-2.06-.94-.94-2.06-.94 2.06-2.06.94zm-11 1L8.5 8.5l.94-2.06 2.06-.94-2.06-.94L8.5 2.5l-.94 2.06-2.06.94zm10 10l.94 2.06.94-2.06 2.06-.94-2.06-.94-.94-2.06-.94 2.06-2.06.94z\"/><path d=\"M17.41 7.96l-1.37-1.37c-.4-.4-.92-.59-1.43-.59-.52 0-1.04.2-1.43.59L10.3 9.45l-7.72 7.72c-.78.78-.78 2.05 0 2.83L4 21.41c.39.39.9.59 1.41.59.51 0 1.02-.2 1.41-.59l7.78-7.78 2.81-2.81c.8-.78.8-2.07 0-2.86zM5.41 20L4 18.59l7.72-7.72 1.47 1.35L5.41 20z\"/>\n",
              "  </svg>\n",
              "      </button>\n",
              "      \n",
              "  <style>\n",
              "    .colab-df-container {\n",
              "      display:flex;\n",
              "      flex-wrap:wrap;\n",
              "      gap: 12px;\n",
              "    }\n",
              "\n",
              "    .colab-df-convert {\n",
              "      background-color: #E8F0FE;\n",
              "      border: none;\n",
              "      border-radius: 50%;\n",
              "      cursor: pointer;\n",
              "      display: none;\n",
              "      fill: #1967D2;\n",
              "      height: 32px;\n",
              "      padding: 0 0 0 0;\n",
              "      width: 32px;\n",
              "    }\n",
              "\n",
              "    .colab-df-convert:hover {\n",
              "      background-color: #E2EBFA;\n",
              "      box-shadow: 0px 1px 2px rgba(60, 64, 67, 0.3), 0px 1px 3px 1px rgba(60, 64, 67, 0.15);\n",
              "      fill: #174EA6;\n",
              "    }\n",
              "\n",
              "    [theme=dark] .colab-df-convert {\n",
              "      background-color: #3B4455;\n",
              "      fill: #D2E3FC;\n",
              "    }\n",
              "\n",
              "    [theme=dark] .colab-df-convert:hover {\n",
              "      background-color: #434B5C;\n",
              "      box-shadow: 0px 1px 3px 1px rgba(0, 0, 0, 0.15);\n",
              "      filter: drop-shadow(0px 1px 2px rgba(0, 0, 0, 0.3));\n",
              "      fill: #FFFFFF;\n",
              "    }\n",
              "  </style>\n",
              "\n",
              "      <script>\n",
              "        const buttonEl =\n",
              "          document.querySelector('#df-ec6551c3-4b33-4ee6-a8f6-2fa92d7c8891 button.colab-df-convert');\n",
              "        buttonEl.style.display =\n",
              "          google.colab.kernel.accessAllowed ? 'block' : 'none';\n",
              "\n",
              "        async function convertToInteractive(key) {\n",
              "          const element = document.querySelector('#df-ec6551c3-4b33-4ee6-a8f6-2fa92d7c8891');\n",
              "          const dataTable =\n",
              "            await google.colab.kernel.invokeFunction('convertToInteractive',\n",
              "                                                     [key], {});\n",
              "          if (!dataTable) return;\n",
              "\n",
              "          const docLinkHtml = 'Like what you see? Visit the ' +\n",
              "            '<a target=\"_blank\" href=https://colab.research.google.com/notebooks/data_table.ipynb>data table notebook</a>'\n",
              "            + ' to learn more about interactive tables.';\n",
              "          element.innerHTML = '';\n",
              "          dataTable['output_type'] = 'display_data';\n",
              "          await google.colab.output.renderOutput(dataTable, element);\n",
              "          const docLink = document.createElement('div');\n",
              "          docLink.innerHTML = docLinkHtml;\n",
              "          element.appendChild(docLink);\n",
              "        }\n",
              "      </script>\n",
              "    </div>\n",
              "  </div>\n",
              "  "
            ]
          },
          "metadata": {},
          "execution_count": 13
        }
      ]
    },
    {
      "cell_type": "code",
      "source": [
        "pasta_qty=data.groupby('HHID')['PASTA'].sum()"
      ],
      "metadata": {
        "id": "zkExQLPXLeNI"
      },
      "execution_count": null,
      "outputs": []
    },
    {
      "cell_type": "code",
      "source": [
        "pasta_qty.max()"
      ],
      "metadata": {
        "colab": {
          "base_uri": "https://localhost:8080/"
        },
        "id": "Zi4U3xU7M6YG",
        "outputId": "9536e202-22fd-41ac-d9b2-8f84c9643b11"
      },
      "execution_count": null,
      "outputs": [
        {
          "output_type": "execute_result",
          "data": {
            "text/plain": [
              "55.36193058243067"
            ]
          },
          "metadata": {},
          "execution_count": 27
        }
      ]
    },
    {
      "cell_type": "code",
      "source": [
        "area_grp=data.groupby('AREA')['INCOME'].mean()"
      ],
      "metadata": {
        "id": "t63h17QxQD-x"
      },
      "execution_count": null,
      "outputs": []
    },
    {
      "cell_type": "code",
      "source": [
        "area_grp"
      ],
      "metadata": {
        "colab": {
          "base_uri": "https://localhost:8080/"
        },
        "id": "eFYESYUwQORk",
        "outputId": "97795b4a-3b3f-4740-b367-f8f22d6ad53e"
      },
      "execution_count": null,
      "outputs": [
        {
          "output_type": "execute_result",
          "data": {
            "text/plain": [
              "AREA\n",
              "1    28076.599968\n",
              "2    26218.857948\n",
              "3    25879.485698\n",
              "4    29260.133137\n",
              "5    26030.910606\n",
              "Name: INCOME, dtype: float64"
            ]
          },
          "metadata": {},
          "execution_count": 31
        }
      ]
    },
    {
      "cell_type": "code",
      "source": [
        "area_2=data[data['AREA']==2]\n",
        "high_income=area_2[area_2['INCOME']>20000]\n",
        "pasta_qty1=high_income.groupby('HHID')['PASTA'].sum()\n",
        "num_house=(pasta_qty1 > 30).sum()\n",
        "print(num_house)"
      ],
      "metadata": {
        "colab": {
          "base_uri": "https://localhost:8080/"
        },
        "id": "JeuznfUCQWHd",
        "outputId": "23c92a38-0f0b-4efd-a77a-61ad6a180b25"
      },
      "execution_count": null,
      "outputs": [
        {
          "output_type": "stream",
          "name": "stdout",
          "text": [
            "218\n"
          ]
        }
      ]
    },
    {
      "cell_type": "code",
      "source": [
        "correlation=data['PASTA'].corr(data['EXPOS'])\n",
        "print(correlation)"
      ],
      "metadata": {
        "colab": {
          "base_uri": "https://localhost:8080/"
        },
        "id": "hQIzGvhrSeGJ",
        "outputId": "36a4dc72-5e3b-4d83-bf5c-b4e25d5bb8b6"
      },
      "execution_count": null,
      "outputs": [
        {
          "output_type": "stream",
          "name": "stdout",
          "text": [
            "0.32661737731864876\n"
          ]
        }
      ]
    },
    {
      "cell_type": "code",
      "source": [
        "import matplotlib.pyplot as plt"
      ],
      "metadata": {
        "id": "-dnfgz7yTY3J"
      },
      "execution_count": null,
      "outputs": []
    },
    {
      "cell_type": "code",
      "source": [
        "pasta_qty.plot(kind=\"hist\")"
      ],
      "metadata": {
        "id": "SMk_ThLdThYF",
        "outputId": "1e4ca2f7-327b-4645-b87b-9b0668e3f6cf",
        "colab": {
          "base_uri": "https://localhost:8080/",
          "height": 447
        }
      },
      "execution_count": null,
      "outputs": [
        {
          "output_type": "execute_result",
          "data": {
            "text/plain": [
              "<Axes: ylabel='Frequency'>"
            ]
          },
          "metadata": {},
          "execution_count": 38
        },
        {
          "output_type": "display_data",
          "data": {
            "text/plain": [
              "<Figure size 640x480 with 1 Axes>"
            ],
            "image/png": "[encoded data removed]"
          },
          "metadata": {}
        }
      ]
    }
  ]
}